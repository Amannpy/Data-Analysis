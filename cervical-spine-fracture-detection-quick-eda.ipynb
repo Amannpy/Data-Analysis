{
 "cells": [
  {
   "cell_type": "markdown",
   "id": "c0815aa3",
   "metadata": {
    "papermill": {
     "duration": 0.005719,
     "end_time": "2024-07-18T16:04:01.952900",
     "exception": false,
     "start_time": "2024-07-18T16:04:01.947181",
     "status": "completed"
    },
    "tags": []
   },
   "source": [
    "**Some required installation for `PYDICOM` data**. As stated in the [data section](https://www.kaggle.com/competitions/rsna-2022-cervical-spine-fracture-detection/data):\n",
    "\n",
    "> The **DICOM** image files are ≤ 1 mm slice thickness, axial orientation, and bone kernel. Note that some of the DICOM files are **JPEG compressed**. **You may require additional resources to read the pixel array of these files, such as GDCM and pylibjpeg.**"
   ]
  },
  {
   "cell_type": "code",
   "execution_count": 1,
   "id": "37133e24",
   "metadata": {
    "execution": {
     "iopub.execute_input": "2024-07-18T16:04:01.964975Z",
     "iopub.status.busy": "2024-07-18T16:04:01.963620Z",
     "iopub.status.idle": "2024-07-18T16:04:10.534325Z",
     "shell.execute_reply": "2024-07-18T16:04:10.533114Z"
    },
    "papermill": {
     "duration": 8.579835,
     "end_time": "2024-07-18T16:04:10.537380",
     "exception": false,
     "start_time": "2024-07-18T16:04:01.957545",
     "status": "completed"
    },
    "tags": []
   },
   "outputs": [],
   "source": [
    "import os\n",
    "import pydicom\n",
    "import SimpleITK as sitk\n",
    "import cv2\n",
    "import numpy as np\n",
    "import pandas as pd\n",
    "import matplotlib.pyplot as plt\n",
    "from sklearn.model_selection import train_test_split\n",
    "from tensorflow.keras.models import Model\n",
    "from tensorflow.keras.layers import Input, Conv2D, MaxPooling2D, Flatten, Dense, Dropout\n",
    "from sklearn.metrics import classification_report, accuracy_score\n",
    "from multiprocessing import Pool"
   ]
  },
  {
   "cell_type": "code",
   "execution_count": 2,
   "id": "8b69de18",
   "metadata": {
    "execution": {
     "iopub.execute_input": "2024-07-18T16:04:10.549062Z",
     "iopub.status.busy": "2024-07-18T16:04:10.547692Z",
     "iopub.status.idle": "2024-07-18T16:04:10.557169Z",
     "shell.execute_reply": "2024-07-18T16:04:10.555929Z"
    },
    "papermill": {
     "duration": 0.018104,
     "end_time": "2024-07-18T16:04:10.560109",
     "exception": false,
     "start_time": "2024-07-18T16:04:10.542005",
     "status": "completed"
    },
    "tags": []
   },
   "outputs": [],
   "source": [
    "def load_dicom_image(file_path):\n",
    "    dicom = sitk.ReadImage(file_path)\n",
    "    img = sitk.GetArrayFromImage(dicom)[0]\n",
    "    \n",
    "    # Check if the image is a 2D array\n",
    "    if img.ndim != 2:\n",
    "        raise ValueError(f\"Expected 2D image, got {img.ndim}D image\")\n",
    "\n",
    "    # Convert to uint8 if necessary\n",
    "    if img.dtype != np.uint8:\n",
    "        img = cv2.normalize(img, None, 0, 255, cv2.NORM_MINMAX).astype(np.uint8)\n",
    "\n",
    "    # Resize the image to 128x128\n",
    "    img = cv2.resize(img, (128, 128))\n",
    "    img = img / 255.0  # Normalize pixel values to [0, 1]\n",
    "    return img"
   ]
  },
  {
   "cell_type": "code",
   "execution_count": 3,
   "id": "b6ca3f1a",
   "metadata": {
    "execution": {
     "iopub.execute_input": "2024-07-18T16:04:10.570917Z",
     "iopub.status.busy": "2024-07-18T16:04:10.570433Z",
     "iopub.status.idle": "2024-07-18T16:04:10.582111Z",
     "shell.execute_reply": "2024-07-18T16:04:10.580648Z"
    },
    "papermill": {
     "duration": 0.020231,
     "end_time": "2024-07-18T16:04:10.584817",
     "exception": false,
     "start_time": "2024-07-18T16:04:10.564586",
     "status": "completed"
    },
    "tags": []
   },
   "outputs": [],
   "source": [
    "def extract_images_from_subfolder(subfolder, limit_per_subfolder):\n",
    "    file_paths = []\n",
    "    count = 0\n",
    "    with os.scandir(subfolder) as it:\n",
    "        for entry in it:\n",
    "            if entry.is_file() and entry.name.endswith('.dcm'):\n",
    "                file_paths.append(entry.path)\n",
    "                count += 1\n",
    "                if count >= limit_per_subfolder:\n",
    "                    break\n",
    "    return file_paths\n",
    "\n",
    "def extract_images_into_dataframe(directory, limit_per_subfolder=15):\n",
    "    all_files = []\n",
    "    subfolders = [f.path for f in os.scandir(directory) if f.is_dir()]\n",
    "    \n",
    "    with Pool(processes=os.cpu_count()) as pool:\n",
    "        results = pool.starmap(extract_images_from_subfolder, [(subfolder, limit_per_subfolder) for subfolder in subfolders])\n",
    "    \n",
    "    for result in results:\n",
    "        all_files.extend(result)\n",
    "    \n",
    "    df = pd.DataFrame({'FilePath': all_files})\n",
    "    return df"
   ]
  },
  {
   "cell_type": "code",
   "execution_count": 4,
   "id": "bc888777",
   "metadata": {
    "execution": {
     "iopub.execute_input": "2024-07-18T16:04:10.596124Z",
     "iopub.status.busy": "2024-07-18T16:04:10.595013Z",
     "iopub.status.idle": "2024-07-18T16:05:29.377693Z",
     "shell.execute_reply": "2024-07-18T16:05:29.375895Z"
    },
    "papermill": {
     "duration": 78.79566,
     "end_time": "2024-07-18T16:05:29.384964",
     "exception": false,
     "start_time": "2024-07-18T16:04:10.589304",
     "status": "completed"
    },
    "tags": []
   },
   "outputs": [
    {
     "name": "stdout",
     "output_type": "stream",
     "text": [
      "(30285, 1)\n",
      "                                            FilePath\n",
      "0  /kaggle/input/rsna-2022-cervical-spine-fractur...\n",
      "1  /kaggle/input/rsna-2022-cervical-spine-fractur...\n",
      "2  /kaggle/input/rsna-2022-cervical-spine-fractur...\n",
      "3  /kaggle/input/rsna-2022-cervical-spine-fractur...\n",
      "4  /kaggle/input/rsna-2022-cervical-spine-fractur...\n"
     ]
    }
   ],
   "source": [
    "# Define paths and parameters\n",
    "main_folder_path = '/kaggle/input/rsna-2022-cervical-spine-fracture-detection/train_images'\n",
    "limit_per_subfolder = 15\n",
    "\n",
    "# Extract 15 DICOM file paths per subfolder into a DataFrame\n",
    "df = extract_images_into_dataframe(main_folder_path, limit_per_subfolder)\n",
    "\n",
    "# Display the dataframe (optional)\n",
    "print(df.shape)\n",
    "print(df.head())"
   ]
  },
  {
   "cell_type": "code",
   "execution_count": 5,
   "id": "d30c48e3",
   "metadata": {
    "execution": {
     "iopub.execute_input": "2024-07-18T16:05:29.397148Z",
     "iopub.status.busy": "2024-07-18T16:05:29.396644Z",
     "iopub.status.idle": "2024-07-18T16:18:15.778653Z",
     "shell.execute_reply": "2024-07-18T16:18:15.775697Z"
    },
    "papermill": {
     "duration": 766.400522,
     "end_time": "2024-07-18T16:18:15.790408",
     "exception": false,
     "start_time": "2024-07-18T16:05:29.389886",
     "status": "completed"
    },
    "tags": []
   },
   "outputs": [
    {
     "name": "stdout",
     "output_type": "stream",
     "text": [
      "(30285, 128, 128)\n"
     ]
    }
   ],
   "source": [
    "# Load images and create arrays\n",
    "images = []\n",
    "for file_path in df['FilePath']:\n",
    "    try:\n",
    "        img = load_dicom_image(file_path)\n",
    "        images.append(img)\n",
    "    except Exception as e:\n",
    "        print(f\"Error processing file {file_path}: {e}\")\n",
    "\n",
    "images = np.array(images)\n",
    "print(images.shape)"
   ]
  },
  {
   "cell_type": "code",
   "execution_count": 6,
   "id": "025af191",
   "metadata": {
    "execution": {
     "iopub.execute_input": "2024-07-18T16:18:15.803281Z",
     "iopub.status.busy": "2024-07-18T16:18:15.802727Z",
     "iopub.status.idle": "2024-07-18T16:18:17.770440Z",
     "shell.execute_reply": "2024-07-18T16:18:17.768526Z"
    },
    "papermill": {
     "duration": 1.978759,
     "end_time": "2024-07-18T16:18:17.774021",
     "exception": false,
     "start_time": "2024-07-18T16:18:15.795262",
     "status": "completed"
    },
    "tags": []
   },
   "outputs": [
    {
     "name": "stdout",
     "output_type": "stream",
     "text": [
      "(30285,)\n",
      "(24228, 128, 128) (24228,)\n",
      "(6057, 128, 128) (6057,)\n"
     ]
    }
   ],
   "source": [
    "# Extract StudyInstanceUID from file paths\n",
    "df['StudyInstanceUID'] = df['FilePath'].apply(lambda x: os.path.basename(os.path.dirname(x)))\n",
    "\n",
    "# Merge with train.csv to get labels\n",
    "train_df = pd.read_csv('/kaggle/input/rsna-2022-cervical-spine-fracture-detection/train.csv')\n",
    "df = df.merge(train_df[['StudyInstanceUID', 'patient_overall']], on='StudyInstanceUID', how='left')\n",
    "\n",
    "# Extract labels\n",
    "labels = df['patient_overall'].values\n",
    "print(labels.shape)\n",
    "\n",
    "# Split Data into Training and Validation Sets\n",
    "X_train, X_val, y_train, y_val = train_test_split(images, labels, test_size=0.2, random_state=42)\n",
    "\n",
    "print(X_train.shape, y_train.shape)\n",
    "print(X_val.shape, y_val.shape)"
   ]
  },
  {
   "cell_type": "code",
   "execution_count": 7,
   "id": "d2e708a4",
   "metadata": {
    "execution": {
     "iopub.execute_input": "2024-07-18T16:18:17.788761Z",
     "iopub.status.busy": "2024-07-18T16:18:17.786623Z",
     "iopub.status.idle": "2024-07-18T16:47:41.380603Z",
     "shell.execute_reply": "2024-07-18T16:47:41.379232Z"
    },
    "papermill": {
     "duration": 1763.60412,
     "end_time": "2024-07-18T16:47:41.383695",
     "exception": false,
     "start_time": "2024-07-18T16:18:17.779575",
     "status": "completed"
    },
    "tags": []
   },
   "outputs": [
    {
     "name": "stdout",
     "output_type": "stream",
     "text": [
      "Model: \"model\"\n",
      "_________________________________________________________________\n",
      "Layer (type)                 Output Shape              Param #   \n",
      "=================================================================\n",
      "input_1 (InputLayer)         [(None, 128, 128, 1)]     0         \n",
      "_________________________________________________________________\n",
      "conv2d (Conv2D)              (None, 126, 126, 32)      320       \n",
      "_________________________________________________________________\n",
      "max_pooling2d (MaxPooling2D) (None, 63, 63, 32)        0         \n",
      "_________________________________________________________________\n",
      "conv2d_1 (Conv2D)            (None, 61, 61, 64)        18496     \n",
      "_________________________________________________________________\n",
      "max_pooling2d_1 (MaxPooling2 (None, 30, 30, 64)        0         \n",
      "_________________________________________________________________\n",
      "flatten (Flatten)            (None, 57600)             0         \n",
      "_________________________________________________________________\n",
      "dense (Dense)                (None, 128)               7372928   \n",
      "_________________________________________________________________\n",
      "dropout (Dropout)            (None, 128)               0         \n",
      "_________________________________________________________________\n",
      "dense_1 (Dense)              (None, 1)                 129       \n",
      "=================================================================\n",
      "Total params: 7,391,873\n",
      "Trainable params: 7,391,873\n",
      "Non-trainable params: 0\n",
      "_________________________________________________________________\n",
      "Epoch 1/10\n",
      "758/758 [==============================] - 179s 234ms/step - loss: 0.6908 - accuracy: 0.5350 - val_loss: 0.6788 - val_accuracy: 0.5749\n",
      "Epoch 2/10\n",
      "758/758 [==============================] - 175s 230ms/step - loss: 0.6659 - accuracy: 0.5809 - val_loss: 0.6498 - val_accuracy: 0.6021\n",
      "Epoch 3/10\n",
      "758/758 [==============================] - 171s 226ms/step - loss: 0.6208 - accuracy: 0.6248 - val_loss: 0.6136 - val_accuracy: 0.6336\n",
      "Epoch 4/10\n",
      "758/758 [==============================] - 176s 232ms/step - loss: 0.5602 - accuracy: 0.6703 - val_loss: 0.5881 - val_accuracy: 0.6597\n",
      "Epoch 5/10\n",
      "758/758 [==============================] - 179s 236ms/step - loss: 0.5054 - accuracy: 0.7090 - val_loss: 0.5815 - val_accuracy: 0.6782\n",
      "Epoch 6/10\n",
      "758/758 [==============================] - 177s 234ms/step - loss: 0.4619 - accuracy: 0.7416 - val_loss: 0.5756 - val_accuracy: 0.6899\n",
      "Epoch 7/10\n",
      "758/758 [==============================] - 175s 230ms/step - loss: 0.4262 - accuracy: 0.7694 - val_loss: 0.5865 - val_accuracy: 0.7025\n",
      "Epoch 8/10\n",
      "758/758 [==============================] - 176s 232ms/step - loss: 0.3883 - accuracy: 0.7918 - val_loss: 0.5937 - val_accuracy: 0.7301\n",
      "Epoch 9/10\n",
      "758/758 [==============================] - 175s 231ms/step - loss: 0.3513 - accuracy: 0.8200 - val_loss: 0.6293 - val_accuracy: 0.7327\n",
      "Epoch 10/10\n",
      "758/758 [==============================] - 177s 233ms/step - loss: 0.3209 - accuracy: 0.8368 - val_loss: 0.6544 - val_accuracy: 0.7395\n"
     ]
    }
   ],
   "source": [
    "# Define and Train the Model\n",
    "def create_model():\n",
    "    inputs = Input(shape=(128, 128, 1))\n",
    "    x = Conv2D(32, (3, 3), activation='relu')(inputs)\n",
    "    x = MaxPooling2D((2, 2))(x)\n",
    "    x = Conv2D(64, (3, 3), activation='relu')(x)\n",
    "    x = MaxPooling2D((2, 2))(x)\n",
    "    x = Flatten()(x)\n",
    "    x = Dense(128, activation='relu')(x)\n",
    "    x = Dropout(0.5)(x)\n",
    "    outputs = Dense(1, activation='sigmoid')(x)\n",
    "    model = Model(inputs, outputs)\n",
    "    model.compile(optimizer='adam', loss='binary_crossentropy', metrics=['accuracy'])\n",
    "    return model\n",
    "\n",
    "model = create_model()\n",
    "model.summary()\n",
    "\n",
    "# Train the Model\n",
    "history = model.fit(X_train, y_train, epochs=10, batch_size=32, validation_data=(X_val, y_val))"
   ]
  },
  {
   "cell_type": "code",
   "execution_count": 8,
   "id": "602f7235",
   "metadata": {
    "execution": {
     "iopub.execute_input": "2024-07-18T16:47:42.837157Z",
     "iopub.status.busy": "2024-07-18T16:47:42.835826Z",
     "iopub.status.idle": "2024-07-18T16:47:53.231316Z",
     "shell.execute_reply": "2024-07-18T16:47:53.229907Z"
    },
    "papermill": {
     "duration": 11.1601,
     "end_time": "2024-07-18T16:47:53.234297",
     "exception": false,
     "start_time": "2024-07-18T16:47:42.074197",
     "status": "completed"
    },
    "tags": []
   },
   "outputs": [
    {
     "name": "stdout",
     "output_type": "stream",
     "text": [
      "              precision    recall  f1-score   support\n",
      "\n",
      "           0       0.76      0.73      0.75      3203\n",
      "           1       0.71      0.74      0.73      2854\n",
      "\n",
      "    accuracy                           0.74      6057\n",
      "   macro avg       0.74      0.74      0.74      6057\n",
      "weighted avg       0.74      0.74      0.74      6057\n",
      "\n",
      "Accuracy: 0.7394749876176325\n"
     ]
    },
    {
     "data": {
      "image/png": "[encoded data removed]",
      "text/plain": [
       "<Figure size 432x288 with 1 Axes>"
      ]
     },
     "metadata": {
      "needs_background": "light"
     },
     "output_type": "display_data"
    },
    {
     "data": {
      "image/png": "[encoded data removed]",
      "text/plain": [
       "<Figure size 432x288 with 1 Axes>"
      ]
     },
     "metadata": {
      "needs_background": "light"
     },
     "output_type": "display_data"
    }
   ],
   "source": [
    "# Evaluate the Model\n",
    "y_val_pred = model.predict(X_val)\n",
    "y_val_pred = (y_val_pred > 0.5).astype(int)\n",
    "print(classification_report(y_val, y_val_pred))\n",
    "print('Accuracy:', accuracy_score(y_val, y_val_pred))\n",
    "\n",
    "# Visualize Training History\n",
    "plt.plot(history.history['accuracy'], label='train_accuracy')\n",
    "plt.plot(history.history['val_accuracy'], label='val_accuracy')\n",
    "plt.xlabel('Epoch')\n",
    "plt.ylabel('Accuracy')\n",
    "plt.legend()\n",
    "plt.show()\n",
    "\n",
    "plt.plot(history.history['loss'], label='train_loss')\n",
    "plt.plot(history.history['val_loss'], label='val_loss')\n",
    "plt.xlabel('Epoch')\n",
    "plt.ylabel('Loss')\n",
    "plt.legend()\n",
    "plt.show()"
   ]
  }
 ],
 "metadata": {
  "kaggle": {
   "accelerator": "none",
   "dataSources": [
    {
     "databundleVersionId": 4050810,
     "sourceId": 36363,
     "sourceType": "competition"
    },
    {
     "datasetId": 2373279,
     "sourceId": 5718655,
     "sourceType": "datasetVersion"
    }
   ],
   "dockerImageVersionId": 30213,
   "isGpuEnabled": false,
   "isInternetEnabled": false,
   "language": "python",
   "sourceType": "notebook"
  },
  "kernelspec": {
   "display_name": "Python 3",
   "language": "python",
   "name": "python3"
  },
  "language_info": {
   "codemirror_mode": {
    "name": "ipython",
    "version": 3
   },
   "file_extension": ".py",
   "mimetype": "text/x-python",
   "name": "python",
   "nbconvert_exporter": "python",
   "pygments_lexer": "ipython3",
   "version": "3.7.12"
  },
  "papermill": {
   "default_parameters": {},
   "duration": 2648.578471,
   "end_time": "2024-07-18T16:47:58.201111",
   "environment_variables": {},
   "exception": null,
   "input_path": "__notebook__.ipynb",
   "output_path": "__notebook__.ipynb",
   "parameters": {},
   "start_time": "2024-07-18T16:03:49.622640",
   "version": "2.3.4"
  }
 },
 "nbformat": 4,
 "nbformat_minor": 5
}
