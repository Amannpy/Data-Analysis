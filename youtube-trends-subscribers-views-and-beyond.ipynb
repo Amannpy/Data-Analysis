{
 "cells": [
  {
   "cell_type": "markdown",
   "id": "28894a0e",
   "metadata": {
    "papermill": {
     "duration": 0.008179,
     "end_time": "2025-01-15T07:05:20.519540",
     "exception": false,
     "start_time": "2025-01-15T07:05:20.511361",
     "status": "completed"
    },
    "tags": []
   },
   "source": [
    "# YouTube Channels Analysis\n",
    "\n",
    "\n",
    "\n",
    "This analysis explores YouTube channels, focusing on metrics like subscribers, views, and uploads. We examine trends across countries and identify top-performing channels. Key areas include:\n",
    "\n",
    "- Top channels by subscribers and views.\n",
    "- Distribution of channels and views by country.\n",
    "- Relationships between views, subscribers, and uploads.\n",
    "- Engagement metrics like average views per upload.\n",
    "\n",
    "Join me to uncover insights into YouTube's most popular channels and their success factors."
   ]
  },
  {
   "cell_type": "code",
   "execution_count": 1,
   "id": "3900cfb1",
   "metadata": {
    "_cell_guid": "b1076dfc-b9ad-4769-8c92-a6c4dae69d19",
    "_uuid": "8f2839f25d086af736a60e9eeb907d3b93b6e0e5",
    "execution": {
     "iopub.execute_input": "2025-01-15T07:05:20.533634Z",
     "iopub.status.busy": "2025-01-15T07:05:20.533285Z",
     "iopub.status.idle": "2025-01-15T07:05:21.590064Z",
     "shell.execute_reply": "2025-01-15T07:05:21.588859Z"
    },
    "papermill": {
     "duration": 1.066001,
     "end_time": "2025-01-15T07:05:21.591976",
     "exception": false,
     "start_time": "2025-01-15T07:05:20.525975",
     "status": "completed"
    },
    "tags": []
   },
   "outputs": [
    {
     "name": "stdout",
     "output_type": "stream",
     "text": [
      "/kaggle/input/top-100-youtube-channels-in-2024/YOUTUBE CHANNELS DATASET.csv\n"
     ]
    }
   ],
   "source": [
    "# This Python 3 environment comes with many helpful analytics libraries installed\n",
    "# It is defined by the kaggle/python Docker image: https://github.com/kaggle/docker-python\n",
    "# For example, here's several helpful packages to load\n",
    "\n",
    "import numpy as np # linear algebra\n",
    "import pandas as pd # data processing, CSV file I/O (e.g. pd.read_csv)\n",
    "\n",
    "# Input data files are available in the read-only \"../input/\" directory\n",
    "# For example, running this (by clicking run or pressing Shift+Enter) will list all files under the input directory\n",
    "\n",
    "import os\n",
    "for dirname, _, filenames in os.walk('/kaggle/input'):\n",
    "    for filename in filenames:\n",
    "        print(os.path.join(dirname, filename))\n",
    "\n",
    "# You can write up to 20GB to the current directory (/kaggle/working/) that gets preserved as output when you create a version using \"Save & Run All\" \n",
    "# You can also write temporary files to /kaggle/temp/, but they won't be saved outside of the current session"
   ]
  },
  {
   "cell_type": "code",
   "execution_count": 2,
   "id": "79df7b0f",
   "metadata": {
    "execution": {
     "iopub.execute_input": "2025-01-15T07:05:21.606535Z",
     "iopub.status.busy": "2025-01-15T07:05:21.606005Z",
     "iopub.status.idle": "2025-01-15T07:05:21.627402Z",
     "shell.execute_reply": "2025-01-15T07:05:21.626120Z"
    },
    "papermill": {
     "duration": 0.030759,
     "end_time": "2025-01-15T07:05:21.629454",
     "exception": false,
     "start_time": "2025-01-15T07:05:21.598695",
     "status": "completed"
    },
    "tags": []
   },
   "outputs": [],
   "source": [
    "df=pd.read_csv('/kaggle/input/top-100-youtube-channels-in-2024/YOUTUBE CHANNELS DATASET.csv')"
   ]
  },
  {
   "cell_type": "code",
   "execution_count": 3,
   "id": "5f861378",
   "metadata": {
    "execution": {
     "iopub.execute_input": "2025-01-15T07:05:21.644780Z",
     "iopub.status.busy": "2025-01-15T07:05:21.644394Z",
     "iopub.status.idle": "2025-01-15T07:05:21.674322Z",
     "shell.execute_reply": "2025-01-15T07:05:21.673298Z"
    },
    "papermill": {
     "duration": 0.039739,
     "end_time": "2025-01-15T07:05:21.676190",
     "exception": false,
     "start_time": "2025-01-15T07:05:21.636451",
     "status": "completed"
    },
    "tags": []
   },
   "outputs": [
    {
     "data": {
      "text/html": [
       "<div>\n",
       "<style scoped>\n",
       "    .dataframe tbody tr th:only-of-type {\n",
       "        vertical-align: middle;\n",
       "    }\n",
       "\n",
       "    .dataframe tbody tr th {\n",
       "        vertical-align: top;\n",
       "    }\n",
       "\n",
       "    .dataframe thead th {\n",
       "        text-align: right;\n",
       "    }\n",
       "</style>\n",
       "<table border=\"1\" class=\"dataframe\">\n",
       "  <thead>\n",
       "    <tr style=\"text-align: right;\">\n",
       "      <th></th>\n",
       "      <th>Ranking</th>\n",
       "      <th>Username</th>\n",
       "      <th>Subscribers</th>\n",
       "      <th>Uploads</th>\n",
       "      <th>Views</th>\n",
       "      <th>Country</th>\n",
       "    </tr>\n",
       "  </thead>\n",
       "  <tbody>\n",
       "    <tr>\n",
       "      <th>0</th>\n",
       "      <td>1.0</td>\n",
       "      <td>MrBeast</td>\n",
       "      <td>336M</td>\n",
       "      <td>838</td>\n",
       "      <td>66,853,633,536</td>\n",
       "      <td>US</td>\n",
       "    </tr>\n",
       "    <tr>\n",
       "      <th>1</th>\n",
       "      <td>2.0</td>\n",
       "      <td>T-Series</td>\n",
       "      <td>281M</td>\n",
       "      <td>22,313</td>\n",
       "      <td>277,242,795,553</td>\n",
       "      <td>IN</td>\n",
       "    </tr>\n",
       "    <tr>\n",
       "      <th>2</th>\n",
       "      <td>3.0</td>\n",
       "      <td>Cocomelon-Nursery Rhymes</td>\n",
       "      <td>186M</td>\n",
       "      <td>1370</td>\n",
       "      <td>194,361,752,276</td>\n",
       "      <td>US</td>\n",
       "    </tr>\n",
       "    <tr>\n",
       "      <th>3</th>\n",
       "      <td>4.0</td>\n",
       "      <td>Youtube Movies</td>\n",
       "      <td>185M</td>\n",
       "      <td>0</td>\n",
       "      <td>0</td>\n",
       "      <td>NaN</td>\n",
       "    </tr>\n",
       "    <tr>\n",
       "      <th>4</th>\n",
       "      <td>5.0</td>\n",
       "      <td>Set India</td>\n",
       "      <td>180M</td>\n",
       "      <td>148,727</td>\n",
       "      <td>172,709,029,653</td>\n",
       "      <td>IN</td>\n",
       "    </tr>\n",
       "  </tbody>\n",
       "</table>\n",
       "</div>"
      ],
      "text/plain": [
       "   Ranking                  Username Subscribers  Uploads            Views  \\\n",
       "0      1.0                   MrBeast        336M      838   66,853,633,536   \n",
       "1      2.0                  T-Series        281M   22,313  277,242,795,553   \n",
       "2      3.0  Cocomelon-Nursery Rhymes        186M     1370  194,361,752,276   \n",
       "3      4.0            Youtube Movies        185M        0                0   \n",
       "4      5.0                 Set India        180M  148,727  172,709,029,653   \n",
       "\n",
       "  Country  \n",
       "0      US  \n",
       "1      IN  \n",
       "2      US  \n",
       "3     NaN  \n",
       "4      IN  "
      ]
     },
     "execution_count": 3,
     "metadata": {},
     "output_type": "execute_result"
    }
   ],
   "source": [
    "df.head()"
   ]
  },
  {
   "cell_type": "code",
   "execution_count": 4,
   "id": "47ee3c0b",
   "metadata": {
    "execution": {
     "iopub.execute_input": "2025-01-15T07:05:21.690827Z",
     "iopub.status.busy": "2025-01-15T07:05:21.690452Z",
     "iopub.status.idle": "2025-01-15T07:05:21.701502Z",
     "shell.execute_reply": "2025-01-15T07:05:21.700555Z"
    },
    "papermill": {
     "duration": 0.02007,
     "end_time": "2025-01-15T07:05:21.703064",
     "exception": false,
     "start_time": "2025-01-15T07:05:21.682994",
     "status": "completed"
    },
    "tags": []
   },
   "outputs": [],
   "source": [
    "# Ensure numeric columns are properly formatted\n",
    "df['Subscribers'] = df['Subscribers'].replace({'M': 'e6', 'B': 'e9'}, regex=True).replace({',': ''}, regex=True).astype(float)\n",
    "df['Views'] = df['Views'].replace({',': ''}, regex=True).astype(float)\n",
    "df['Uploads'] = df['Uploads'].replace({',': ''}, regex=True).astype(float)\n",
    "\n",
    "# Select only numeric columns for correlation\n",
    "numeric_df = df.select_dtypes(include=['float64', 'int64'])"
   ]
  },
  {
   "cell_type": "code",
   "execution_count": 5,
   "id": "fa5a99ea",
   "metadata": {
    "execution": {
     "iopub.execute_input": "2025-01-15T07:05:21.717761Z",
     "iopub.status.busy": "2025-01-15T07:05:21.717359Z",
     "iopub.status.idle": "2025-01-15T07:05:21.741083Z",
     "shell.execute_reply": "2025-01-15T07:05:21.739836Z"
    },
    "papermill": {
     "duration": 0.033117,
     "end_time": "2025-01-15T07:05:21.742969",
     "exception": false,
     "start_time": "2025-01-15T07:05:21.709852",
     "status": "completed"
    },
    "tags": []
   },
   "outputs": [
    {
     "name": "stderr",
     "output_type": "stream",
     "text": [
      "/usr/local/lib/python3.10/dist-packages/pandas/io/formats/format.py:1458: RuntimeWarning: invalid value encountered in greater\n",
      "  has_large_values = (abs_vals > 1e6).any()\n",
      "/usr/local/lib/python3.10/dist-packages/pandas/io/formats/format.py:1459: RuntimeWarning: invalid value encountered in less\n",
      "  has_small_values = ((abs_vals < 10 ** (-self.digits)) & (abs_vals > 0)).any()\n",
      "/usr/local/lib/python3.10/dist-packages/pandas/io/formats/format.py:1459: RuntimeWarning: invalid value encountered in greater\n",
      "  has_small_values = ((abs_vals < 10 ** (-self.digits)) & (abs_vals > 0)).any()\n"
     ]
    },
    {
     "data": {
      "text/html": [
       "<div>\n",
       "<style scoped>\n",
       "    .dataframe tbody tr th:only-of-type {\n",
       "        vertical-align: middle;\n",
       "    }\n",
       "\n",
       "    .dataframe tbody tr th {\n",
       "        vertical-align: top;\n",
       "    }\n",
       "\n",
       "    .dataframe thead th {\n",
       "        text-align: right;\n",
       "    }\n",
       "</style>\n",
       "<table border=\"1\" class=\"dataframe\">\n",
       "  <thead>\n",
       "    <tr style=\"text-align: right;\">\n",
       "      <th></th>\n",
       "      <th>Ranking</th>\n",
       "      <th>Username</th>\n",
       "      <th>Subscribers</th>\n",
       "      <th>Uploads</th>\n",
       "      <th>Views</th>\n",
       "      <th>Country</th>\n",
       "    </tr>\n",
       "  </thead>\n",
       "  <tbody>\n",
       "    <tr>\n",
       "      <th>0</th>\n",
       "      <td>1.0</td>\n",
       "      <td>MrBeast</td>\n",
       "      <td>336000000.0</td>\n",
       "      <td>838.0</td>\n",
       "      <td>6.685363e+10</td>\n",
       "      <td>US</td>\n",
       "    </tr>\n",
       "    <tr>\n",
       "      <th>1</th>\n",
       "      <td>2.0</td>\n",
       "      <td>T-Series</td>\n",
       "      <td>281000000.0</td>\n",
       "      <td>22313.0</td>\n",
       "      <td>2.772428e+11</td>\n",
       "      <td>IN</td>\n",
       "    </tr>\n",
       "    <tr>\n",
       "      <th>2</th>\n",
       "      <td>3.0</td>\n",
       "      <td>Cocomelon-Nursery Rhymes</td>\n",
       "      <td>186000000.0</td>\n",
       "      <td>1370.0</td>\n",
       "      <td>1.943618e+11</td>\n",
       "      <td>US</td>\n",
       "    </tr>\n",
       "    <tr>\n",
       "      <th>3</th>\n",
       "      <td>4.0</td>\n",
       "      <td>Youtube Movies</td>\n",
       "      <td>185000000.0</td>\n",
       "      <td>0.0</td>\n",
       "      <td>0.000000e+00</td>\n",
       "      <td>NaN</td>\n",
       "    </tr>\n",
       "    <tr>\n",
       "      <th>4</th>\n",
       "      <td>5.0</td>\n",
       "      <td>Set India</td>\n",
       "      <td>180000000.0</td>\n",
       "      <td>148727.0</td>\n",
       "      <td>1.727090e+11</td>\n",
       "      <td>IN</td>\n",
       "    </tr>\n",
       "    <tr>\n",
       "      <th>...</th>\n",
       "      <td>...</td>\n",
       "      <td>...</td>\n",
       "      <td>...</td>\n",
       "      <td>...</td>\n",
       "      <td>...</td>\n",
       "      <td>...</td>\n",
       "    </tr>\n",
       "    <tr>\n",
       "      <th>96</th>\n",
       "      <td>97.0</td>\n",
       "      <td>Voce Sabia</td>\n",
       "      <td>46000000.0</td>\n",
       "      <td>1714.0</td>\n",
       "      <td>8.180068e+09</td>\n",
       "      <td>BR</td>\n",
       "    </tr>\n",
       "    <tr>\n",
       "      <th>97</th>\n",
       "      <td>98.0</td>\n",
       "      <td>Katy Perry</td>\n",
       "      <td>45600000.0</td>\n",
       "      <td>170.0</td>\n",
       "      <td>2.761685e+10</td>\n",
       "      <td>US</td>\n",
       "    </tr>\n",
       "    <tr>\n",
       "      <th>98</th>\n",
       "      <td>99.0</td>\n",
       "      <td>Speed Records</td>\n",
       "      <td>45500000.0</td>\n",
       "      <td>11880.0</td>\n",
       "      <td>3.058744e+10</td>\n",
       "      <td>IN</td>\n",
       "    </tr>\n",
       "    <tr>\n",
       "      <th>99</th>\n",
       "      <td>100.0</td>\n",
       "      <td>Zhong</td>\n",
       "      <td>45500000.0</td>\n",
       "      <td>1861.0</td>\n",
       "      <td>1.799816e+10</td>\n",
       "      <td>US</td>\n",
       "    </tr>\n",
       "    <tr>\n",
       "      <th>100</th>\n",
       "      <td>NaN</td>\n",
       "      <td>NaN</td>\n",
       "      <td>NaN</td>\n",
       "      <td>NaN</td>\n",
       "      <td>NaN</td>\n",
       "      <td>NaN</td>\n",
       "    </tr>\n",
       "  </tbody>\n",
       "</table>\n",
       "<p>101 rows × 6 columns</p>\n",
       "</div>"
      ],
      "text/plain": [
       "     Ranking                  Username  Subscribers   Uploads         Views  \\\n",
       "0        1.0                   MrBeast  336000000.0     838.0  6.685363e+10   \n",
       "1        2.0                  T-Series  281000000.0   22313.0  2.772428e+11   \n",
       "2        3.0  Cocomelon-Nursery Rhymes  186000000.0    1370.0  1.943618e+11   \n",
       "3        4.0            Youtube Movies  185000000.0       0.0  0.000000e+00   \n",
       "4        5.0                 Set India  180000000.0  148727.0  1.727090e+11   \n",
       "..       ...                       ...          ...       ...           ...   \n",
       "96      97.0                Voce Sabia   46000000.0    1714.0  8.180068e+09   \n",
       "97      98.0                Katy Perry   45600000.0     170.0  2.761685e+10   \n",
       "98      99.0             Speed Records   45500000.0   11880.0  3.058744e+10   \n",
       "99     100.0                     Zhong   45500000.0    1861.0  1.799816e+10   \n",
       "100      NaN                       NaN          NaN       NaN           NaN   \n",
       "\n",
       "    Country  \n",
       "0        US  \n",
       "1        IN  \n",
       "2        US  \n",
       "3       NaN  \n",
       "4        IN  \n",
       "..      ...  \n",
       "96       BR  \n",
       "97       US  \n",
       "98       IN  \n",
       "99       US  \n",
       "100     NaN  \n",
       "\n",
       "[101 rows x 6 columns]"
      ]
     },
     "execution_count": 5,
     "metadata": {},
     "output_type": "execute_result"
    }
   ],
   "source": [
    "df"
   ]
  },
  {
   "cell_type": "markdown",
   "id": "e54507b4",
   "metadata": {
    "papermill": {
     "duration": 0.007078,
     "end_time": "2025-01-15T07:05:21.757010",
     "exception": false,
     "start_time": "2025-01-15T07:05:21.749932",
     "status": "completed"
    },
    "tags": []
   },
   "source": [
    "# Top 5 Channels by Subscribers\n"
   ]
  },
  {
   "cell_type": "code",
   "execution_count": 6,
   "id": "e4692cea",
   "metadata": {
    "execution": {
     "iopub.execute_input": "2025-01-15T07:05:21.772123Z",
     "iopub.status.busy": "2025-01-15T07:05:21.771721Z",
     "iopub.status.idle": "2025-01-15T07:05:24.994591Z",
     "shell.execute_reply": "2025-01-15T07:05:24.993195Z"
    },
    "papermill": {
     "duration": 3.232773,
     "end_time": "2025-01-15T07:05:24.996681",
     "exception": false,
     "start_time": "2025-01-15T07:05:21.763908",
     "status": "completed"
    },
    "tags": []
   },
   "outputs": [
    {
     "data": {
      "text/html": [
       "<iframe\n",
       "    scrolling=\"no\"\n",
       "    width=\"100%\"\n",
       "    height=\"545px\"\n",
       "    src=\"iframe_figures/figure_6.html\"\n",
       "    frameborder=\"0\"\n",
       "    allowfullscreen\n",
       "></iframe>\n"
      ]
     },
     "metadata": {},
     "output_type": "display_data"
    }
   ],
   "source": [
    "import plotly.express as px\n",
    "\n",
    "# Sort by Subscribers\n",
    "df_sorted = df.sort_values(by='Subscribers', ascending=False).head(5)\n",
    "\n",
    "# Bar plot\n",
    "fig = px.bar(df_sorted, x='Username', y='Subscribers', title='Top 5 Channels by Subscribers')\n",
    "fig.show(renderer='iframe_connected')"
   ]
  },
  {
   "cell_type": "markdown",
   "id": "92ddad41",
   "metadata": {
    "papermill": {
     "duration": 0.006801,
     "end_time": "2025-01-15T07:05:25.011268",
     "exception": false,
     "start_time": "2025-01-15T07:05:25.004467",
     "status": "completed"
    },
    "tags": []
   },
   "source": [
    "### Key Insights:\n",
    "**MrBeast** leads with **336 million** subscribers, followed closely by **T-Series** with **281 million** subscribers. **Cocomelon - Nursery Rhymes** holds the third position with **186 million** subscribers, while **YouTube Movies** and **Set India** round out the top five with **185 million** and **180 million** subscribers, respectively. This data highlights the dominance of entertainment and music-focused channels, with MrBeast and T-Series being the clear frontrunners in the global YouTube landscape."
   ]
  },
  {
   "cell_type": "markdown",
   "id": "60f804bb",
   "metadata": {
    "papermill": {
     "duration": 0.00652,
     "end_time": "2025-01-15T07:05:25.024845",
     "exception": false,
     "start_time": "2025-01-15T07:05:25.018325",
     "status": "completed"
    },
    "tags": []
   },
   "source": [
    "# Distribution of Channels by Country\n"
   ]
  },
  {
   "cell_type": "code",
   "execution_count": 7,
   "id": "988ae617",
   "metadata": {
    "execution": {
     "iopub.execute_input": "2025-01-15T07:05:25.039984Z",
     "iopub.status.busy": "2025-01-15T07:05:25.039572Z",
     "iopub.status.idle": "2025-01-15T07:05:25.102870Z",
     "shell.execute_reply": "2025-01-15T07:05:25.101742Z"
    },
    "papermill": {
     "duration": 0.0729,
     "end_time": "2025-01-15T07:05:25.104701",
     "exception": false,
     "start_time": "2025-01-15T07:05:25.031801",
     "status": "completed"
    },
    "tags": []
   },
   "outputs": [
    {
     "data": {
      "text/html": [
       "<iframe\n",
       "    scrolling=\"no\"\n",
       "    width=\"100%\"\n",
       "    height=\"545px\"\n",
       "    src=\"iframe_figures/figure_7.html\"\n",
       "    frameborder=\"0\"\n",
       "    allowfullscreen\n",
       "></iframe>\n"
      ]
     },
     "metadata": {},
     "output_type": "display_data"
    }
   ],
   "source": [
    "# Group by Country and count channels\n",
    "country_counts = df['Country'].value_counts().reset_index()\n",
    "country_counts.columns = ['Country', 'Count']\n",
    "\n",
    "# Bar plot\n",
    "fig = px.bar(country_counts, x='Country', y='Count', title='Number of Channels by Country')\n",
    "fig.show(renderer='iframe_connected')"
   ]
  },
  {
   "cell_type": "markdown",
   "id": "88c3a123",
   "metadata": {
    "papermill": {
     "duration": 0.00718,
     "end_time": "2025-01-15T07:05:25.119265",
     "exception": false,
     "start_time": "2025-01-15T07:05:25.112085",
     "status": "completed"
    },
    "tags": []
   },
   "source": [
    "### Key Insights:\n",
    "**India (IN)** has the highest number of channels with **28**, closely followed by the **United States (US)** with **27** channels. **Brazil (BR)** ranks third with **5** channels, while **South Korea (KR)** and **Mexico (MX)** each have **4** channels. This indicates a strong presence of YouTube content creators in India and the United States, with other countries like Brazil, South Korea, and Mexico also contributing significantly to the platform's diversity."
   ]
  },
  {
   "cell_type": "markdown",
   "id": "41710219",
   "metadata": {
    "papermill": {
     "duration": 0.007273,
     "end_time": "2025-01-15T07:05:25.134477",
     "exception": false,
     "start_time": "2025-01-15T07:05:25.127204",
     "status": "completed"
    },
    "tags": []
   },
   "source": [
    "# Views vs Subscribers Scatter Plot\n"
   ]
  },
  {
   "cell_type": "code",
   "execution_count": 8,
   "id": "278ef8ac",
   "metadata": {
    "execution": {
     "iopub.execute_input": "2025-01-15T07:05:25.151455Z",
     "iopub.status.busy": "2025-01-15T07:05:25.151112Z",
     "iopub.status.idle": "2025-01-15T07:05:25.315575Z",
     "shell.execute_reply": "2025-01-15T07:05:25.314553Z"
    },
    "papermill": {
     "duration": 0.174978,
     "end_time": "2025-01-15T07:05:25.317348",
     "exception": false,
     "start_time": "2025-01-15T07:05:25.142370",
     "status": "completed"
    },
    "tags": []
   },
   "outputs": [
    {
     "data": {
      "text/html": [
       "<iframe\n",
       "    scrolling=\"no\"\n",
       "    width=\"100%\"\n",
       "    height=\"545px\"\n",
       "    src=\"iframe_figures/figure_8.html\"\n",
       "    frameborder=\"0\"\n",
       "    allowfullscreen\n",
       "></iframe>\n"
      ]
     },
     "metadata": {},
     "output_type": "display_data"
    }
   ],
   "source": [
    "# Scatter plot\n",
    "fig = px.scatter(df, x='Subscribers', y='Views', color='Country', title='Views vs Subscribers')\n",
    "fig.show(renderer='iframe_connected')"
   ]
  },
  {
   "cell_type": "markdown",
   "id": "381aaee2",
   "metadata": {
    "papermill": {
     "duration": 0.007171,
     "end_time": "2025-01-15T07:05:25.332376",
     "exception": false,
     "start_time": "2025-01-15T07:05:25.325205",
     "status": "completed"
    },
    "tags": []
   },
   "source": [
    "### Key Insights:\n",
    "Channels from the **United States (US)** and **India (IN)** dominate in terms of subscribers and views, with several channels in the US having subscriber counts around **45-46 million** and views in the range of **8-30 billion**. Channels from **Brazil (BR)** and the **United Arab Emirates (AE)** also show significant activity, with subscriber counts ranging from **45-69 million** and views spanning **8-64 billion**. This highlights the global reach of YouTube, with content creators from diverse countries contributing to the platform's massive viewership and subscriber base."
   ]
  },
  {
   "cell_type": "markdown",
   "id": "bd81220d",
   "metadata": {
    "papermill": {
     "duration": 0.006803,
     "end_time": "2025-01-15T07:05:25.346553",
     "exception": false,
     "start_time": "2025-01-15T07:05:25.339750",
     "status": "completed"
    },
    "tags": []
   },
   "source": [
    "# Average Views per Upload\n"
   ]
  },
  {
   "cell_type": "code",
   "execution_count": 9,
   "id": "15e8ea27",
   "metadata": {
    "execution": {
     "iopub.execute_input": "2025-01-15T07:05:25.362458Z",
     "iopub.status.busy": "2025-01-15T07:05:25.362015Z",
     "iopub.status.idle": "2025-01-15T07:05:25.417573Z",
     "shell.execute_reply": "2025-01-15T07:05:25.416489Z"
    },
    "papermill": {
     "duration": 0.065548,
     "end_time": "2025-01-15T07:05:25.419435",
     "exception": false,
     "start_time": "2025-01-15T07:05:25.353887",
     "status": "completed"
    },
    "tags": []
   },
   "outputs": [
    {
     "data": {
      "text/html": [
       "<iframe\n",
       "    scrolling=\"no\"\n",
       "    width=\"100%\"\n",
       "    height=\"545px\"\n",
       "    src=\"iframe_figures/figure_9.html\"\n",
       "    frameborder=\"0\"\n",
       "    allowfullscreen\n",
       "></iframe>\n"
      ]
     },
     "metadata": {},
     "output_type": "display_data"
    }
   ],
   "source": [
    "# Convert Views and Uploads to numeric (remove commas and convert to integers)\n",
    "df['Views'] = df['Views'].replace({',': ''}, regex=True).astype(float)\n",
    "df['Uploads'] = df['Uploads'].replace({',': ''}, regex=True).astype(float)\n",
    "\n",
    "# Calculate average views per upload\n",
    "df['Avg_Views_Per_Upload'] = df['Views'] / df['Uploads']\n",
    "\n",
    "# Sort the DataFrame by 'Avg_Views_Per_Upload' in descending order\n",
    "df_sorted = df.sort_values('Avg_Views_Per_Upload', ascending=False)\n",
    "\n",
    "# Bar plot\n",
    "fig = px.bar(df_sorted, x='Username', y='Avg_Views_Per_Upload', title='Average Views per Upload (Descending Order)')\n",
    "fig.show(renderer='iframe_connected')"
   ]
  },
  {
   "cell_type": "markdown",
   "id": "90e77ba0",
   "metadata": {
    "papermill": {
     "duration": 0.006906,
     "end_time": "2025-01-15T07:05:25.433778",
     "exception": false,
     "start_time": "2025-01-15T07:05:25.426872",
     "status": "completed"
    },
    "tags": []
   },
   "source": [
    "### Key Insights:\n",
    "The top 10 YouTube channels by **average views per upload** are led by **Bad Bunny** (236.9M), followed by **EminemMusic** (164.6M) and **Katy Perry** (162.5M). **Cocomelon-Nursery Rhymes** has the highest total views (194.4B) and subscribers (186M), ranking fourth in average views (141.9M). Other top performers include **Justin Bieber**, **Taylor Swift**, and **Ariana Grande**, with averages between 128.9M and 135.1M. Children's channels like **Vlad & Niki** and **Like Nastya** also show high engagement, with averages above 117.8M. Most top creators are from the ith averages above 117.8M. Most top creators are from the **United States (US)**."
   ]
  },
  {
   "cell_type": "markdown",
   "id": "ce8359bc",
   "metadata": {
    "papermill": {
     "duration": 0.006727,
     "end_time": "2025-01-15T07:05:25.447570",
     "exception": false,
     "start_time": "2025-01-15T07:05:25.440843",
     "status": "completed"
    },
    "tags": []
   },
   "source": [
    "# Subscribers vs Uploads"
   ]
  },
  {
   "cell_type": "code",
   "execution_count": 10,
   "id": "1ea6897f",
   "metadata": {
    "execution": {
     "iopub.execute_input": "2025-01-15T07:05:25.463305Z",
     "iopub.status.busy": "2025-01-15T07:05:25.462876Z",
     "iopub.status.idle": "2025-01-15T07:05:25.588787Z",
     "shell.execute_reply": "2025-01-15T07:05:25.587453Z"
    },
    "papermill": {
     "duration": 0.13639,
     "end_time": "2025-01-15T07:05:25.591168",
     "exception": false,
     "start_time": "2025-01-15T07:05:25.454778",
     "status": "completed"
    },
    "tags": []
   },
   "outputs": [
    {
     "data": {
      "text/html": [
       "<iframe\n",
       "    scrolling=\"no\"\n",
       "    width=\"100%\"\n",
       "    height=\"545px\"\n",
       "    src=\"iframe_figures/figure_10.html\"\n",
       "    frameborder=\"0\"\n",
       "    allowfullscreen\n",
       "></iframe>\n"
      ]
     },
     "metadata": {},
     "output_type": "display_data"
    }
   ],
   "source": [
    "\n",
    "fig= px.scatter(df, x='Uploads', y='Subscribers', color='Country', title='Subscribers vs Uploads')\n",
    "fig.show(renderer='iframe_connected')"
   ]
  },
  {
   "cell_type": "markdown",
   "id": "ebaea798",
   "metadata": {
    "papermill": {
     "duration": 0.007014,
     "end_time": "2025-01-15T07:05:25.606516",
     "exception": false,
     "start_time": "2025-01-15T07:05:25.599502",
     "status": "completed"
    },
    "tags": []
   },
   "source": [
    "# Views Distribution by Country"
   ]
  },
  {
   "cell_type": "code",
   "execution_count": 11,
   "id": "a6c2bab6",
   "metadata": {
    "execution": {
     "iopub.execute_input": "2025-01-15T07:05:25.623227Z",
     "iopub.status.busy": "2025-01-15T07:05:25.622835Z",
     "iopub.status.idle": "2025-01-15T07:05:25.704476Z",
     "shell.execute_reply": "2025-01-15T07:05:25.703366Z"
    },
    "papermill": {
     "duration": 0.092508,
     "end_time": "2025-01-15T07:05:25.706438",
     "exception": false,
     "start_time": "2025-01-15T07:05:25.613930",
     "status": "completed"
    },
    "tags": []
   },
   "outputs": [
    {
     "data": {
      "text/html": [
       "<iframe\n",
       "    scrolling=\"no\"\n",
       "    width=\"100%\"\n",
       "    height=\"545px\"\n",
       "    src=\"iframe_figures/figure_11.html\"\n",
       "    frameborder=\"0\"\n",
       "    allowfullscreen\n",
       "></iframe>\n"
      ]
     },
     "metadata": {},
     "output_type": "display_data"
    }
   ],
   "source": [
    "# Group by Country and sum views\n",
    "country_views = df.groupby('Country')['Views'].sum().reset_index()\n",
    "country_views_sorted = country_views.sort_values('Views', ascending=False)\n",
    "\n",
    "# Bar plot\n",
    "fig = px.bar(country_views_sorted, x='Country', y='Views', title='Total Views by Country (Descending Order)')\n",
    "fig.show(renderer='iframe_connected')"
   ]
  },
  {
   "cell_type": "markdown",
   "id": "f42eef12",
   "metadata": {
    "papermill": {
     "duration": 0.012695,
     "end_time": "2025-01-15T07:05:25.727519",
     "exception": false,
     "start_time": "2025-01-15T07:05:25.714824",
     "status": "completed"
    },
    "tags": []
   },
   "source": [
    "### Key Insights:\n",
    " **India (IN)** has the highest total views at **1.57 trillion**, followed by the **United States (US)** with **1.22 trillion** views. South Korea (**KR**) ranks third with **155.7 billion** views, while Brazil (**BR**) and Pakistan (**PK**) follow closely with **125.3 billion** and **123.5 billion** views, respectively. Other countries in the top 10 include the United Arab Emirates (**AE**) with **92.5 billion** views, Argentina (**AR**) with **84.3 billion** views, Russia (**RU**) with **77.9 billion** views, Mexico (**MX**) with **64.2 billion** views, and Japan (**JP**) with **63.9 billion** views. This highlights the significant viewership dominance of **India** and the **United States**, with other countries contributing substantially but at a smaller scale."
   ]
  },
  {
   "cell_type": "markdown",
   "id": "6faf70b9",
   "metadata": {
    "papermill": {
     "duration": 0.007178,
     "end_time": "2025-01-15T07:05:25.742459",
     "exception": false,
     "start_time": "2025-01-15T07:05:25.735281",
     "status": "completed"
    },
    "tags": []
   },
   "source": [
    "# Correlation Heatmap"
   ]
  },
  {
   "cell_type": "code",
   "execution_count": 12,
   "id": "c6b5a4be",
   "metadata": {
    "execution": {
     "iopub.execute_input": "2025-01-15T07:05:25.759254Z",
     "iopub.status.busy": "2025-01-15T07:05:25.758869Z",
     "iopub.status.idle": "2025-01-15T07:05:25.786779Z",
     "shell.execute_reply": "2025-01-15T07:05:25.785078Z"
    },
    "papermill": {
     "duration": 0.040176,
     "end_time": "2025-01-15T07:05:25.790174",
     "exception": false,
     "start_time": "2025-01-15T07:05:25.749998",
     "status": "completed"
    },
    "tags": []
   },
   "outputs": [
    {
     "data": {
      "text/html": [
       "<iframe\n",
       "    scrolling=\"no\"\n",
       "    width=\"100%\"\n",
       "    height=\"545px\"\n",
       "    src=\"iframe_figures/figure_12.html\"\n",
       "    frameborder=\"0\"\n",
       "    allowfullscreen\n",
       "></iframe>\n"
      ]
     },
     "metadata": {},
     "output_type": "display_data"
    }
   ],
   "source": [
    "import plotly.graph_objects as go\n",
    "# Calculate correlation matrix\n",
    "corr_matrix = numeric_df.corr()\n",
    "\n",
    "# Heatmap\n",
    "fig = go.Figure(data=go.Heatmap(\n",
    "    z=corr_matrix.values,\n",
    "    x=corr_matrix.columns,\n",
    "    y=corr_matrix.columns,\n",
    "    colorscale='Viridis',\n",
    "    text=corr_matrix.round(2).values,  # Add correlation values as text\n",
    "    hoverinfo='text'  # Show text on hover\n",
    "))\n",
    "fig.update_layout(\n",
    "    title='Correlation Heatmap',\n",
    "    xaxis_title='Features',\n",
    "    yaxis_title='Features'\n",
    ")\n",
    "fig.show(renderer='iframe_connected')"
   ]
  },
  {
   "cell_type": "markdown",
   "id": "715a6252",
   "metadata": {
    "papermill": {
     "duration": 0.010224,
     "end_time": "2025-01-15T07:05:25.811634",
     "exception": false,
     "start_time": "2025-01-15T07:05:25.801410",
     "status": "completed"
    },
    "tags": []
   },
   "source": [
    "### Significant Correlations:\n",
    "1. **Ranking vs Subscribers**: Strong negative correlation (`-0.69`). Higher-ranked channels (lower numerical rank) tend to have fewer subscribers (obviously).\n",
    "2. **Subscribers vs Views**: Moderate positive correlation (`0.64`). Channels with more subscribers tend to have more views.\n",
    "3. **Uploads vs Avg_Views_Per_Upload**: Weak negative correlation (`-0.25`). Channels with more uploads tend to have slightly lower average views per upload.\n",
    "\n",
    "### Key Insight:\n",
    "- **Subscriber count** is strongly tied to **ranking** and **views**, while **upload frequency** has a minor impact on **average views per upload**."
   ]
  },
  {
   "cell_type": "markdown",
   "id": "a04b2dd0",
   "metadata": {
    "papermill": {
     "duration": 0.011901,
     "end_time": "2025-01-15T07:05:25.837881",
     "exception": false,
     "start_time": "2025-01-15T07:05:25.825980",
     "status": "completed"
    },
    "tags": []
   },
   "source": [
    "# Views Distribution by Channel (Box Plot)"
   ]
  },
  {
   "cell_type": "code",
   "execution_count": 13,
   "id": "3e5b0506",
   "metadata": {
    "execution": {
     "iopub.execute_input": "2025-01-15T07:05:25.861460Z",
     "iopub.status.busy": "2025-01-15T07:05:25.860999Z",
     "iopub.status.idle": "2025-01-15T07:05:26.073033Z",
     "shell.execute_reply": "2025-01-15T07:05:26.071962Z"
    },
    "papermill": {
     "duration": 0.227322,
     "end_time": "2025-01-15T07:05:26.074913",
     "exception": false,
     "start_time": "2025-01-15T07:05:25.847591",
     "status": "completed"
    },
    "tags": []
   },
   "outputs": [
    {
     "data": {
      "text/html": [
       "<iframe\n",
       "    scrolling=\"no\"\n",
       "    width=\"100%\"\n",
       "    height=\"545px\"\n",
       "    src=\"iframe_figures/figure_13.html\"\n",
       "    frameborder=\"0\"\n",
       "    allowfullscreen\n",
       "></iframe>\n"
      ]
     },
     "metadata": {},
     "output_type": "display_data"
    }
   ],
   "source": [
    "# Calculate median views by country and sort in descending order\n",
    "median_views_by_country = df.groupby('Country')['Views'].median().sort_values(ascending=False)\n",
    "\n",
    "# Sort the DataFrame by median views for the box plot\n",
    "df_sorted = df.copy()\n",
    "df_sorted['Country'] = pd.Categorical(df_sorted['Country'], categories=median_views_by_country.index, ordered=True)\n",
    "df_sorted = df_sorted.sort_values('Country')\n",
    "\n",
    "# Box plot\n",
    "fig = px.box(df_sorted, x='Country', y='Views', title='Views Distribution by Country (Sorted by Median Views)')\n",
    "fig.show(renderer='iframe_connected')"
   ]
  },
  {
   "cell_type": "markdown",
   "id": "4b390855",
   "metadata": {
    "papermill": {
     "duration": 0.00733,
     "end_time": "2025-01-15T07:05:26.090210",
     "exception": false,
     "start_time": "2025-01-15T07:05:26.082880",
     "status": "completed"
    },
    "tags": []
   },
   "source": [
    "### Key Insights:\n",
    "- **Pakistan (PK)** has the highest median and mean views (**61.8 billion**), followed by the **Philippines (PH)** with **56.3 billion** views.\n",
    "- **India (IN)** ranks third in mean views (**55.9 billion**) but fifth in median views (**38.4 billion**), indicating a wide distribution of viewership.\n",
    "- The **United States (US)** has a high mean view count (**45.0 billion**) but does not appear in the top 5 for median views, suggesting significant variability in viewership.\n",
    "- Countries like **Argentina (AR)**, **Russia (RU)**, and **South Korea (KR)** show consistent performance in both median and mean views, with values ranging between **31.9 billion** and **42.1 billion**."
   ]
  },
  {
   "cell_type": "markdown",
   "id": "16413301",
   "metadata": {
    "papermill": {
     "duration": 0.007582,
     "end_time": "2025-01-15T07:05:26.105982",
     "exception": false,
     "start_time": "2025-01-15T07:05:26.098400",
     "status": "completed"
    },
    "tags": []
   },
   "source": [
    "# Interactive Scatter Plot with Hover Data"
   ]
  },
  {
   "cell_type": "code",
   "execution_count": 14,
   "id": "8bf545d4",
   "metadata": {
    "execution": {
     "iopub.execute_input": "2025-01-15T07:05:26.122637Z",
     "iopub.status.busy": "2025-01-15T07:05:26.122243Z",
     "iopub.status.idle": "2025-01-15T07:05:26.292975Z",
     "shell.execute_reply": "2025-01-15T07:05:26.291901Z"
    },
    "papermill": {
     "duration": 0.181076,
     "end_time": "2025-01-15T07:05:26.294851",
     "exception": false,
     "start_time": "2025-01-15T07:05:26.113775",
     "status": "completed"
    },
    "tags": []
   },
   "outputs": [
    {
     "data": {
      "text/html": [
       "<iframe\n",
       "    scrolling=\"no\"\n",
       "    width=\"100%\"\n",
       "    height=\"545px\"\n",
       "    src=\"iframe_figures/figure_14.html\"\n",
       "    frameborder=\"0\"\n",
       "    allowfullscreen\n",
       "></iframe>\n"
      ]
     },
     "metadata": {},
     "output_type": "display_data"
    }
   ],
   "source": [
    "# Scatter plot with hover data\n",
    "fig = px.scatter(df, x='Subscribers', y='Views', color='Country', hover_data=['Username', 'Uploads'], title='Subscribers vs Views with Hover Data')\n",
    "fig.show(renderer='iframe_connected')"
   ]
  },
  {
   "cell_type": "markdown",
   "id": "1ff5d631",
   "metadata": {
    "papermill": {
     "duration": 0.007301,
     "end_time": "2025-01-15T07:05:26.310295",
     "exception": false,
     "start_time": "2025-01-15T07:05:26.302994",
     "status": "completed"
    },
    "tags": []
   },
   "source": [
    "# Cumulative Views by Country (Pie Chart)\n"
   ]
  },
  {
   "cell_type": "code",
   "execution_count": 15,
   "id": "44e28e8d",
   "metadata": {
    "execution": {
     "iopub.execute_input": "2025-01-15T07:05:26.327488Z",
     "iopub.status.busy": "2025-01-15T07:05:26.327099Z",
     "iopub.status.idle": "2025-01-15T07:05:26.394116Z",
     "shell.execute_reply": "2025-01-15T07:05:26.392885Z"
    },
    "papermill": {
     "duration": 0.077944,
     "end_time": "2025-01-15T07:05:26.396159",
     "exception": false,
     "start_time": "2025-01-15T07:05:26.318215",
     "status": "completed"
    },
    "tags": []
   },
   "outputs": [
    {
     "data": {
      "text/html": [
       "<iframe\n",
       "    scrolling=\"no\"\n",
       "    width=\"100%\"\n",
       "    height=\"545px\"\n",
       "    src=\"iframe_figures/figure_15.html\"\n",
       "    frameborder=\"0\"\n",
       "    allowfullscreen\n",
       "></iframe>\n"
      ]
     },
     "metadata": {},
     "output_type": "display_data"
    }
   ],
   "source": [
    "\n",
    "country_views = df.groupby('Country')['Views'].sum().reset_index()\n",
    "\n",
    "# Pie chart\n",
    "fig = px.pie(country_views, values='Views', names='Country', title='Proportion of Total Views by Country')\n",
    "fig.show(renderer='iframe_connected')"
   ]
  },
  {
   "cell_type": "markdown",
   "id": "61c1b67c",
   "metadata": {
    "papermill": {
     "duration": 0.007436,
     "end_time": "2025-01-15T07:05:26.411627",
     "exception": false,
     "start_time": "2025-01-15T07:05:26.404191",
     "status": "completed"
    },
    "tags": []
   },
   "source": [
    "### Key Insights:\n",
    "**India** and the **United States** collectively account for **~70%** of the total views, highlighting their dominance in global YouTube viewership. Other countries contribute smaller but meaningful shares, reflecting YouTube's widespread but uneven global reach."
   ]
  },
  {
   "cell_type": "markdown",
   "id": "4f988fca",
   "metadata": {
    "papermill": {
     "duration": 0.00736,
     "end_time": "2025-01-15T07:05:26.426788",
     "exception": false,
     "start_time": "2025-01-15T07:05:26.419428",
     "status": "completed"
    },
    "tags": []
   },
   "source": [
    "# Top 10 Channels by Views"
   ]
  },
  {
   "cell_type": "code",
   "execution_count": 16,
   "id": "e27f1315",
   "metadata": {
    "execution": {
     "iopub.execute_input": "2025-01-15T07:05:26.443754Z",
     "iopub.status.busy": "2025-01-15T07:05:26.443355Z",
     "iopub.status.idle": "2025-01-15T07:05:26.499723Z",
     "shell.execute_reply": "2025-01-15T07:05:26.498719Z"
    },
    "papermill": {
     "duration": 0.066793,
     "end_time": "2025-01-15T07:05:26.501343",
     "exception": false,
     "start_time": "2025-01-15T07:05:26.434550",
     "status": "completed"
    },
    "tags": []
   },
   "outputs": [
    {
     "data": {
      "text/html": [
       "<iframe\n",
       "    scrolling=\"no\"\n",
       "    width=\"100%\"\n",
       "    height=\"545px\"\n",
       "    src=\"iframe_figures/figure_16.html\"\n",
       "    frameborder=\"0\"\n",
       "    allowfullscreen\n",
       "></iframe>\n"
      ]
     },
     "metadata": {},
     "output_type": "display_data"
    }
   ],
   "source": [
    "# Sort by Views\n",
    "df_sorted = df.sort_values(by='Views', ascending=False).head(10)\n",
    "\n",
    "# Bar plot\n",
    "fig = px.bar(df_sorted, x='Username', y='Views', title='Top 10 Channels by Views')\n",
    "fig.show(renderer='iframe_connected')"
   ]
  },
  {
   "cell_type": "markdown",
   "id": "db6915f8",
   "metadata": {
    "papermill": {
     "duration": 0.007433,
     "end_time": "2025-01-15T07:05:26.516921",
     "exception": false,
     "start_time": "2025-01-15T07:05:26.509488",
     "status": "completed"
    },
    "tags": []
   },
   "source": [
    "### Key Insights:\n",
    "Diverse genres like entertainment, music, and kids' content dominate, with **HAR PAL GEO** and **El Reino Infantil** leading in viewership."
   ]
  }
 ],
 "metadata": {
  "kaggle": {
   "accelerator": "none",
   "dataSources": [
    {
     "datasetId": 6309108,
     "sourceId": 10208489,
     "sourceType": "datasetVersion"
    }
   ],
   "dockerImageVersionId": 30839,
   "isGpuEnabled": false,
   "isInternetEnabled": true,
   "language": "python",
   "sourceType": "notebook"
  },
  "kernelspec": {
   "display_name": "Python 3",
   "language": "python",
   "name": "python3"
  },
  "language_info": {
   "codemirror_mode": {
    "name": "ipython",
    "version": 3
   },
   "file_extension": ".py",
   "mimetype": "text/x-python",
   "name": "python",
   "nbconvert_exporter": "python",
   "pygments_lexer": "ipython3",
   "version": "3.10.12"
  },
  "papermill": {
   "default_parameters": {},
   "duration": 9.638013,
   "end_time": "2025-01-15T07:05:27.247013",
   "environment_variables": {},
   "exception": null,
   "input_path": "__notebook__.ipynb",
   "output_path": "__notebook__.ipynb",
   "parameters": {},
   "start_time": "2025-01-15T07:05:17.609000",
   "version": "2.6.0"
  }
 },
 "nbformat": 4,
 "nbformat_minor": 5
}
